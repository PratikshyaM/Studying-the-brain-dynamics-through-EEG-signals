{
 "cells": [
  {
   "cell_type": "markdown",
   "metadata": {},
   "source": [
    "### Studying the brain dynamics through EEG brainwaves \n",
    "\n",
    "#### EEG brainwaves are captured from volunteers while they solve mental arithmetic problems, like serial subtractions here. \n",
    "\n",
    "1. Data Preprocessing- Empirical Mode Decomposition and Second Order Difference Plot\n",
    "2. Feature Extraction from Second Order Difference Plot - Area, Mean and Central Tendency Measure\n",
    "3. SVM Classifier "
   ]
  },
  {
   "cell_type": "code",
   "execution_count": null,
   "metadata": {},
   "outputs": [],
   "source": []
  }
 ],
 "metadata": {
  "kernelspec": {
   "display_name": "Python 3",
   "language": "python",
   "name": "python3"
  },
  "language_info": {
   "codemirror_mode": {
    "name": "ipython",
    "version": 3
   },
   "file_extension": ".py",
   "mimetype": "text/x-python",
   "name": "python",
   "nbconvert_exporter": "python",
   "pygments_lexer": "ipython3",
   "version": "3.6.5"
  }
 },
 "nbformat": 4,
 "nbformat_minor": 2
}
