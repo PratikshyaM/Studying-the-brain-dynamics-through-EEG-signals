{
 "cells": [
  {
   "cell_type": "code",
   "execution_count": 17,
   "metadata": {},
   "outputs": [],
   "source": [
    "import numpy as np\n",
    "import pandas as pd\n",
    "\n",
    "path = 'C:/Users/Dell/Desktop/EEG Arithmetic/0/Trial 1/'"
   ]
  },
  {
   "cell_type": "code",
   "execution_count": 18,
   "metadata": {},
   "outputs": [],
   "source": [
    "df = pd.read_excel(path+\"Trial1.xlsx\")"
   ]
  },
  {
   "cell_type": "code",
   "execution_count": 19,
   "metadata": {},
   "outputs": [],
   "source": [
    "df[\"Area_mag\"] = df.Area.apply(lambda row: abs(complex(row.replace(\" \",\"\"))))\n",
    "df.drop(columns=['Area'],inplace=True)\n",
    "df.drop(df[df['SODP_No']>5].index, inplace = True)\n",
    "df.reset_index(drop=True, inplace = True)"
   ]
  },
  {
   "cell_type": "code",
   "execution_count": 20,
   "metadata": {},
   "outputs": [
    {
     "data": {
      "text/html": [
       "<div>\n",
       "<style scoped>\n",
       "    .dataframe tbody tr th:only-of-type {\n",
       "        vertical-align: middle;\n",
       "    }\n",
       "\n",
       "    .dataframe tbody tr th {\n",
       "        vertical-align: top;\n",
       "    }\n",
       "\n",
       "    .dataframe thead th {\n",
       "        text-align: right;\n",
       "    }\n",
       "</style>\n",
       "<table border=\"1\" class=\"dataframe\">\n",
       "  <thead>\n",
       "    <tr style=\"text-align: right;\">\n",
       "      <th></th>\n",
       "      <th>Trial</th>\n",
       "      <th>Channel</th>\n",
       "      <th>SODP_No</th>\n",
       "      <th>m(r=0.5)</th>\n",
       "      <th>ctm(r=0.5)</th>\n",
       "      <th>Area_mag</th>\n",
       "    </tr>\n",
       "  </thead>\n",
       "  <tbody>\n",
       "    <tr>\n",
       "      <th>0</th>\n",
       "      <td>1</td>\n",
       "      <td>EEG Fp1</td>\n",
       "      <td>1</td>\n",
       "      <td>0.179768</td>\n",
       "      <td>0.284309</td>\n",
       "      <td>28.116831</td>\n",
       "    </tr>\n",
       "    <tr>\n",
       "      <th>1</th>\n",
       "      <td>1</td>\n",
       "      <td>EEG Fp1</td>\n",
       "      <td>2</td>\n",
       "      <td>0.217262</td>\n",
       "      <td>0.254318</td>\n",
       "      <td>25.110411</td>\n",
       "    </tr>\n",
       "    <tr>\n",
       "      <th>2</th>\n",
       "      <td>1</td>\n",
       "      <td>EEG Fp1</td>\n",
       "      <td>3</td>\n",
       "      <td>0.504542</td>\n",
       "      <td>0.247455</td>\n",
       "      <td>4.568114</td>\n",
       "    </tr>\n",
       "    <tr>\n",
       "      <th>3</th>\n",
       "      <td>1</td>\n",
       "      <td>EEG Fp1</td>\n",
       "      <td>4</td>\n",
       "      <td>0.890418</td>\n",
       "      <td>0.204030</td>\n",
       "      <td>2.884154</td>\n",
       "    </tr>\n",
       "    <tr>\n",
       "      <th>4</th>\n",
       "      <td>1</td>\n",
       "      <td>EEG Fp1</td>\n",
       "      <td>5</td>\n",
       "      <td>0.995763</td>\n",
       "      <td>0.122184</td>\n",
       "      <td>1.455482</td>\n",
       "    </tr>\n",
       "  </tbody>\n",
       "</table>\n",
       "</div>"
      ],
      "text/plain": [
       "   Trial  Channel  SODP_No  m(r=0.5)  ctm(r=0.5)   Area_mag\n",
       "0      1  EEG Fp1        1  0.179768    0.284309  28.116831\n",
       "1      1  EEG Fp1        2  0.217262    0.254318  25.110411\n",
       "2      1  EEG Fp1        3  0.504542    0.247455   4.568114\n",
       "3      1  EEG Fp1        4  0.890418    0.204030   2.884154\n",
       "4      1  EEG Fp1        5  0.995763    0.122184   1.455482"
      ]
     },
     "execution_count": 20,
     "metadata": {},
     "output_type": "execute_result"
    }
   ],
   "source": [
    "df.head()"
   ]
  },
  {
   "cell_type": "code",
   "execution_count": 24,
   "metadata": {},
   "outputs": [
    {
     "data": {
      "text/plain": [
       "5"
      ]
     },
     "execution_count": 24,
     "metadata": {},
     "output_type": "execute_result"
    }
   ],
   "source": [
    "len(df.SODP_No.unique())"
   ]
  },
  {
   "cell_type": "code",
   "execution_count": 29,
   "metadata": {},
   "outputs": [
    {
     "name": "stdout",
     "output_type": "stream",
     "text": [
      "0.5906958196730392 3.294666472098237e-11\n"
     ]
    }
   ],
   "source": [
    "#Pearson Corelation\n",
    "from scipy.stats import pearsonr\n",
    "data1, data2 = df['ctm(r=0.5)'], df['Area_mag']\n",
    "corr, p = pearsonr(data1, data2)\n",
    "print(corr, p)"
   ]
  },
  {
   "cell_type": "code",
   "execution_count": 31,
   "metadata": {},
   "outputs": [
    {
     "name": "stdout",
     "output_type": "stream",
     "text": [
      "63.48602245476259 7.378462872661829e-24\n"
     ]
    }
   ],
   "source": [
    "#ANOVA\n",
    "from scipy.stats import f_oneway\n",
    "data1, data2, data3 = df['ctm(r=0.5)'], df['Area_mag'],df['m(r=0.5)']\n",
    "stat, p = f_oneway(data1, data2, data3)\n",
    "print(stat, p)"
   ]
  },
  {
   "cell_type": "code",
   "execution_count": 43,
   "metadata": {},
   "outputs": [
    {
     "name": "stdout",
     "output_type": "stream",
     "text": [
      "813.0 3.051938699994308e-10\n"
     ]
    }
   ],
   "source": [
    "#Wilcoxson\n",
    "from scipy.stats import wilcoxon\n",
    "data1, data2 = df['m(r=0.5)'], df['ctm(r=0.5)']\n",
    "stat, p = wilcoxon(data1, data2)\n",
    "print(stat, p)"
   ]
  }
 ],
 "metadata": {
  "kernelspec": {
   "display_name": "Python 3",
   "language": "python",
   "name": "python3"
  },
  "language_info": {
   "codemirror_mode": {
    "name": "ipython",
    "version": 3
   },
   "file_extension": ".py",
   "mimetype": "text/x-python",
   "name": "python",
   "nbconvert_exporter": "python",
   "pygments_lexer": "ipython3",
   "version": "3.6.5"
  }
 },
 "nbformat": 4,
 "nbformat_minor": 2
}
