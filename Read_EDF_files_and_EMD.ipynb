{
 "cells": [
  {
   "cell_type": "code",
   "execution_count": 3,
   "metadata": {},
   "outputs": [],
   "source": [
    "import numpy as np\n",
    "import pandas as pd\n",
    "from os import listdir\n",
    "from os.path import isfile,isdir, join\n",
    "path = \"C:/Users/Dell/Desktop/EEG Arithmetic/eeg-during-mental-arithmetic-tasks-1.0.0/eeg-during-mental-arithmetic-tasks-1.0.0/\""
   ]
  },
  {
   "cell_type": "code",
   "execution_count": 2,
   "metadata": {},
   "outputs": [],
   "source": [
    "import pyedflib  #European Data Format \n",
    "# It is a simple and flexible format for exchange and storage of multichannel biological and physical signals.\n",
    "\n",
    "#with “_1” postfix -- the recording of the background EEG of a subject (before mental arithmetic task)\n",
    "#with “_2” postfix -- the recording of EEG during the mental arithmetic task. "
   ]
  },
  {
   "cell_type": "code",
   "execution_count": 29,
   "metadata": {},
   "outputs": [
    {
     "name": "stdout",
     "output_type": "stream",
     "text": [
      "Subject00_1.edf    Subject00_2.edf\n"
     ]
    }
   ],
   "source": [
    "onlyfiles = [d for d in listdir(path) if isfile(join(path, d))] \n",
    "onlyfiles = [i for i in onlyfiles if '.edf' in i]\n",
    "print(onlyfiles[0] + \"    \" + onlyfiles[1])"
   ]
  },
  {
   "cell_type": "code",
   "execution_count": 43,
   "metadata": {},
   "outputs": [],
   "source": [
    "f = pyedflib.EdfReader(path+onlyfiles[1])\n",
    "n = f.signals_in_file      #number of channels = 21 (20 EEG channels, 1 ECG)\n",
    "signal_labels = f.getSignalLabels()   #name if the channels\n",
    "sigbufs = np.zeros((n, f.getNSamples()[0]))\n",
    "for i in np.arange(n):\n",
    "    sigbufs[i, :] = f.readSignal(i)"
   ]
  },
  {
   "cell_type": "code",
   "execution_count": 44,
   "metadata": {},
   "outputs": [
    {
     "data": {
      "text/plain": [
       "31000"
      ]
     },
     "execution_count": 44,
     "metadata": {},
     "output_type": "execute_result"
    }
   ],
   "source": [
    "len(sigbufs[10])"
   ]
  },
  {
   "cell_type": "code",
   "execution_count": 46,
   "metadata": {},
   "outputs": [
    {
     "data": {
      "text/plain": [
       "[<matplotlib.lines.Line2D at 0x1631c030438>]"
      ]
     },
     "execution_count": 46,
     "metadata": {},
     "output_type": "execute_result"
    },
    {
     "data": {
      "image/png": "[encoded data removed]",
      "text/plain": [
       "<Figure size 432x288 with 1 Axes>"
      ]
     },
     "metadata": {
      "needs_background": "light"
     },
     "output_type": "display_data"
    }
   ],
   "source": [
    "from matplotlib import pyplot as plt\n",
    "from PyEMD import EMD\n",
    "\n",
    "t = np.linspace(0,60,31000)\n",
    "plt.plot(t,sigbufs[0]) #plotting the first EEG channel signal (1 min)"
   ]
  },
  {
   "cell_type": "code",
   "execution_count": 47,
   "metadata": {},
   "outputs": [],
   "source": [
    "IMF = EMD().emd(sigbufs[0],t)\n",
    "N = IMF.shape[0]+1\n",
    "\n",
    "# Plot results\n",
    "plt.figure(figsize=(20,20))\n",
    "plt.subplot(N,1,1)\n",
    "plt.plot(t, sigbufs[0], 'r')\n",
    "plt.title(\"Input signal:\")\n",
    "plt.xlabel(\"Time [s]\")\n",
    "for n, imf in enumerate(IMF):\n",
    "    plt.subplot(N,1,n+2)\n",
    "    plt.plot(t, imf, 'g')\n",
    "    plt.title(\"IMF \"+str(n+1))\n",
    "    plt.xlabel(\"Time [s]\")\n",
    "    #imp_features = second_order_difference_plot(imf,n+1,channel,dirc_,imp_features,trial)\n",
    "\n",
    "plt.tight_layout()\n",
    "plt.savefig('arith.png')\n",
    "plt.close()"
   ]
  },
  {
   "cell_type": "code",
   "execution_count": null,
   "metadata": {},
   "outputs": [],
   "source": []
  },
  {
   "cell_type": "code",
   "execution_count": null,
   "metadata": {},
   "outputs": [],
   "source": []
  },
  {
   "cell_type": "code",
   "execution_count": null,
   "metadata": {},
   "outputs": [],
   "source": []
  },
  {
   "cell_type": "code",
   "execution_count": 25,
   "metadata": {},
   "outputs": [
    {
     "data": {
      "text/html": [
       "<div>\n",
       "<style scoped>\n",
       "    .dataframe tbody tr th:only-of-type {\n",
       "        vertical-align: middle;\n",
       "    }\n",
       "\n",
       "    .dataframe tbody tr th {\n",
       "        vertical-align: top;\n",
       "    }\n",
       "\n",
       "    .dataframe thead th {\n",
       "        text-align: right;\n",
       "    }\n",
       "</style>\n",
       "<table border=\"1\" class=\"dataframe\">\n",
       "  <thead>\n",
       "    <tr style=\"text-align: right;\">\n",
       "      <th></th>\n",
       "      <th>Subject</th>\n",
       "      <th>Age</th>\n",
       "      <th>Gender</th>\n",
       "      <th>Recording year</th>\n",
       "      <th>Number of subtractions</th>\n",
       "      <th>Count quality</th>\n",
       "    </tr>\n",
       "  </thead>\n",
       "  <tbody>\n",
       "    <tr>\n",
       "      <th>0</th>\n",
       "      <td>Subject00</td>\n",
       "      <td>21</td>\n",
       "      <td>F</td>\n",
       "      <td>2011</td>\n",
       "      <td>9.70</td>\n",
       "      <td>0</td>\n",
       "    </tr>\n",
       "    <tr>\n",
       "      <th>1</th>\n",
       "      <td>Subject01</td>\n",
       "      <td>18</td>\n",
       "      <td>F</td>\n",
       "      <td>2011</td>\n",
       "      <td>29.35</td>\n",
       "      <td>1</td>\n",
       "    </tr>\n",
       "    <tr>\n",
       "      <th>2</th>\n",
       "      <td>Subject02</td>\n",
       "      <td>19</td>\n",
       "      <td>F</td>\n",
       "      <td>2012</td>\n",
       "      <td>12.88</td>\n",
       "      <td>1</td>\n",
       "    </tr>\n",
       "    <tr>\n",
       "      <th>3</th>\n",
       "      <td>Subject03</td>\n",
       "      <td>17</td>\n",
       "      <td>F</td>\n",
       "      <td>2010</td>\n",
       "      <td>31.00</td>\n",
       "      <td>1</td>\n",
       "    </tr>\n",
       "    <tr>\n",
       "      <th>4</th>\n",
       "      <td>Subject04</td>\n",
       "      <td>17</td>\n",
       "      <td>F</td>\n",
       "      <td>2010</td>\n",
       "      <td>8.60</td>\n",
       "      <td>0</td>\n",
       "    </tr>\n",
       "  </tbody>\n",
       "</table>\n",
       "</div>"
      ],
      "text/plain": [
       "     Subject  Age Gender  Recording year  Number of subtractions  \\\n",
       "0  Subject00   21      F            2011                    9.70   \n",
       "1  Subject01   18      F            2011                   29.35   \n",
       "2  Subject02   19      F            2012                   12.88   \n",
       "3  Subject03   17      F            2010                   31.00   \n",
       "4  Subject04   17      F            2010                    8.60   \n",
       "\n",
       "   Count quality  \n",
       "0              0  \n",
       "1              1  \n",
       "2              1  \n",
       "3              1  \n",
       "4              0  "
      ]
     },
     "execution_count": 25,
     "metadata": {},
     "output_type": "execute_result"
    }
   ],
   "source": [
    "#Group “G” (24 subjects) performing good quality count (Mean number of operations per 4 minutes = 21, SD = 7.4 ), \n",
    "#Group ”B” (12 subjects) performing bad quality count (Mean number of operations per 4 minutes = 7, SD = 3.6).  \n",
    "#In the file “subjects_info.xlsx” the “Count quality” column provides info which subjects correspond to which group \n",
    "#(0 - Group ”B”, 1 - Group “G”). \n",
    "\n",
    "subject_info = pd.read_csv(path+\"subject-info.csv\")\n",
    "subject_info.head()"
   ]
  }
 ],
 "metadata": {
  "kernelspec": {
   "display_name": "Python 3",
   "language": "python",
   "name": "python3"
  },
  "language_info": {
   "codemirror_mode": {
    "name": "ipython",
    "version": 3
   },
   "file_extension": ".py",
   "mimetype": "text/x-python",
   "name": "python",
   "nbconvert_exporter": "python",
   "pygments_lexer": "ipython3",
   "version": "3.6.5"
  }
 },
 "nbformat": 4,
 "nbformat_minor": 2
}
