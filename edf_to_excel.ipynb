{
 "cells": [
  {
   "cell_type": "code",
   "execution_count": 1,
   "metadata": {},
   "outputs": [],
   "source": [
    "import numpy as np\n",
    "import pandas as pd\n",
    "from os import listdir\n",
    "from os.path import isfile,isdir, join\n",
    "path = \"C:/Users/Dell/Desktop/EEG Arithmetic/eeg-during-mental-arithmetic-tasks-1.0.0/eeg-during-mental-arithmetic-tasks-1.0.0/\""
   ]
  },
  {
   "cell_type": "code",
   "execution_count": 2,
   "metadata": {},
   "outputs": [],
   "source": [
    "import pyedflib  #European Data Format \n"
   ]
  },
  {
   "cell_type": "code",
   "execution_count": 3,
   "metadata": {},
   "outputs": [
    {
     "name": "stdout",
     "output_type": "stream",
     "text": [
      "Subject00_1.edf    Subject00_2.edf\n"
     ]
    }
   ],
   "source": [
    "onlyfiles = [d for d in listdir(path) if isfile(join(path, d))] \n",
    "onlyfiles = [i for i in onlyfiles if '.edf' in i]\n",
    "print(onlyfiles[0] + \"    \" + onlyfiles[1])"
   ]
  },
  {
   "cell_type": "code",
   "execution_count": 4,
   "metadata": {},
   "outputs": [
    {
     "name": "stdout",
     "output_type": "stream",
     "text": [
      "(91000, 21)\n",
      "(31000, 21)\n",
      "(91000, 21)\n",
      "(31000, 21)\n",
      "(91000, 21)\n",
      "(31000, 21)\n",
      "(91000, 21)\n",
      "(31000, 21)\n",
      "(85000, 21)\n",
      "(31000, 21)\n",
      "(91000, 21)\n",
      "(31000, 21)\n",
      "(91000, 21)\n",
      "(31000, 21)\n",
      "(91000, 21)\n",
      "(31000, 21)\n",
      "(91000, 21)\n",
      "(31000, 21)\n",
      "(91000, 21)\n",
      "(31000, 21)\n",
      "(94000, 21)\n",
      "(31000, 21)\n",
      "(91000, 21)\n",
      "(31000, 21)\n",
      "(91000, 21)\n",
      "(31000, 21)\n",
      "(91000, 21)\n",
      "(31000, 21)\n",
      "(91000, 21)\n",
      "(31000, 21)\n",
      "(91000, 21)\n",
      "(31000, 21)\n",
      "(91000, 21)\n",
      "(31000, 21)\n",
      "(91000, 21)\n",
      "(31000, 21)\n",
      "(91000, 21)\n",
      "(31000, 21)\n",
      "(91000, 21)\n",
      "(31000, 21)\n",
      "(91000, 21)\n",
      "(31000, 21)\n",
      "(91000, 21)\n",
      "(31000, 21)\n",
      "(91000, 21)\n",
      "(31000, 21)\n",
      "(91000, 21)\n",
      "(31000, 21)\n",
      "(91000, 21)\n",
      "(31000, 21)\n",
      "(91000, 21)\n",
      "(31000, 21)\n",
      "(91000, 21)\n",
      "(31000, 21)\n",
      "(91000, 21)\n",
      "(31000, 21)\n",
      "(91000, 21)\n",
      "(31000, 21)\n",
      "(91000, 21)\n",
      "(31000, 21)\n",
      "(91000, 21)\n",
      "(31000, 21)\n",
      "(40000, 21)\n",
      "(31000, 21)\n",
      "(91000, 21)\n",
      "(31000, 21)\n",
      "(91000, 21)\n",
      "(31000, 21)\n",
      "(91000, 21)\n",
      "(31000, 21)\n",
      "(91000, 21)\n",
      "(31000, 21)\n"
     ]
    }
   ],
   "source": [
    "for file in onlyfiles:\n",
    "    f = pyedflib.EdfReader(path+file)\n",
    "    n = f.signals_in_file      #number of channels???\n",
    "    #print(n)\n",
    "    signal_labels = f.getSignalLabels()   #name if the channels???\n",
    "    #print(signal_labels)\n",
    "    sigbufs = np.zeros((n, f.getNSamples()[0]))\n",
    "    for i in np.arange(n):\n",
    "        sigbufs[i, :] = f.readSignal(i)\n",
    "    sigbufs_t = np.transpose(sigbufs)\n",
    "    print(sigbufs_t.shape)\n",
    "    df = pd.DataFrame(sigbufs_t)\n",
    "    df.columns=signal_labels\n",
    "    df.to_excel(\"C:/Users/Dell/Desktop/EEG Arithmetic/eeg-during-mental-arithmetic-tasks-1.0.0/\"+file[0:-4]+'.xlsx')"
   ]
  }
 ],
 "metadata": {
  "kernelspec": {
   "display_name": "Python 3",
   "language": "python",
   "name": "python3"
  },
  "language_info": {
   "codemirror_mode": {
    "name": "ipython",
    "version": 3
   },
   "file_extension": ".py",
   "mimetype": "text/x-python",
   "name": "python",
   "nbconvert_exporter": "python",
   "pygments_lexer": "ipython3",
   "version": "3.6.5"
  }
 },
 "nbformat": 4,
 "nbformat_minor": 2
}
